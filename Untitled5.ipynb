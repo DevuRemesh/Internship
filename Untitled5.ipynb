{
  "nbformat": 4,
  "nbformat_minor": 0,
  "metadata": {
    "colab": {
      "provenance": [],
      "authorship_tag": "ABX9TyMZwxhnMYSXwKb7z8cS25Us",
      "include_colab_link": true
    },
    "kernelspec": {
      "name": "python3",
      "display_name": "Python 3"
    },
    "language_info": {
      "name": "python"
    }
  },
  "cells": [
    {
      "cell_type": "markdown",
      "metadata": {
        "id": "view-in-github",
        "colab_type": "text"
      },
      "source": [
        "<a href=\"https://colab.research.google.com/github/DevuRemesh/Internship/blob/main/Untitled5.ipynb\" target=\"_parent\"><img src=\"https://colab.research.google.com/assets/colab-badge.svg\" alt=\"Open In Colab\"/></a>"
      ]
    },
    {
      "cell_type": "code",
      "execution_count": null,
      "metadata": {
        "colab": {
          "base_uri": "https://localhost:8080/"
        },
        "id": "13E7FXrjB9Kd",
        "outputId": "a683b249-3335-40fd-cd57-be732491ffb6"
      },
      "outputs": [
        {
          "output_type": "stream",
          "name": "stdout",
          "text": [
            "azeya\n",
            "amrutha\n",
            "devu\n"
          ]
        }
      ],
      "source": [
        "array=['devu','amrutha','azeya']\n",
        "for i in range(len(array)-1,-1,-1):\n",
        "  print (array[i])\n"
      ]
    },
    {
      "cell_type": "code",
      "source": [
        "side = int(input(\"Please Enter any Side of a Square  : \"))\n",
        "i = 0\n",
        "print(\"Square Star Pattern\") \n",
        "\n",
        "while(i < side):\n",
        "    j = 0\n",
        "    while(j < side):      \n",
        "        j = j + 1\n",
        "        print('*', end = '  ')\n",
        "    i = i + 1\n",
        "    print('')"
      ],
      "metadata": {
        "colab": {
          "base_uri": "https://localhost:8080/"
        },
        "id": "mBEabZI_IHli",
        "outputId": "65de4fa2-5765-4d64-89d3-f2f3f65eda66"
      },
      "execution_count": null,
      "outputs": [
        {
          "output_type": "stream",
          "name": "stdout",
          "text": [
            "Please Enter any Side of a Square  : 5\n",
            "Square Star Pattern\n",
            "*  *  *  *  *  \n",
            "*  *  *  *  *  \n",
            "*  *  *  *  *  \n",
            "*  *  *  *  *  \n",
            "*  *  *  *  *  \n"
          ]
        }
      ]
    },
    {
      "cell_type": "code",
      "source": [
        "print(\"welcome to\",end=' ')\n",
        "print(\"the world of python\",end='!')"
      ],
      "metadata": {
        "colab": {
          "base_uri": "https://localhost:8080/"
        },
        "id": "hs-4pDqMTYyS",
        "outputId": "93d2d098-b26e-49ac-ab65-d0fdd4cd8eb3"
      },
      "execution_count": null,
      "outputs": [
        {
          "output_type": "stream",
          "name": "stdout",
          "text": [
            "welcome to the world of python!"
          ]
        }
      ]
    },
    {
      "cell_type": "code",
      "source": [
        "print(\"Python\"*3)\n"
      ],
      "metadata": {
        "colab": {
          "base_uri": "https://localhost:8080/"
        },
        "id": "aguXSMk5XE-E",
        "outputId": "cd9d70ca-084c-4d49-a04d-ebae31a6ea3a"
      },
      "execution_count": null,
      "outputs": [
        {
          "output_type": "stream",
          "name": "stdout",
          "text": [
            "PythonPythonPython\n"
          ]
        }
      ]
    },
    {
      "cell_type": "code",
      "source": [
        "s=\"python\"\n",
        "print(s[0])\n",
        "print(s[-3])\n",
        "print(s[1])\n",
        "print(len(s))\n",
        "print(s[-5:2])\n",
        "print(s[:3])"
      ],
      "metadata": {
        "colab": {
          "base_uri": "https://localhost:8080/"
        },
        "id": "5NnwVbNKYH30",
        "outputId": "1afa2f47-a2d3-412b-d8b6-7654ec5091cd"
      },
      "execution_count": null,
      "outputs": [
        {
          "output_type": "stream",
          "name": "stdout",
          "text": [
            "p\n",
            "h\n",
            "y\n",
            "6\n",
            "y\n",
            "pyt\n"
          ]
        }
      ]
    }
  ]
}