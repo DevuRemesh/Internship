{
  "nbformat": 4,
  "nbformat_minor": 0,
  "metadata": {
    "colab": {
      "provenance": [],
      "include_colab_link": true
    },
    "kernelspec": {
      "name": "python3",
      "display_name": "Python 3"
    },
    "language_info": {
      "name": "python"
    }
  },
  "cells": [
    {
      "cell_type": "markdown",
      "metadata": {
        "id": "view-in-github",
        "colab_type": "text"
      },
      "source": [
        "<a href=\"https://colab.research.google.com/github/DevuRemesh/Internship/blob/main/sample_programs.ipynb\" target=\"_parent\"><img src=\"https://colab.research.google.com/assets/colab-badge.svg\" alt=\"Open In Colab\"/></a>"
      ]
    },
    {
      "cell_type": "code",
      "source": [
        "#@title \n",
        "a=1\n",
        "while a<10:\n",
        "  print(a)\n",
        "  a+=2\n",
        "  "
      ],
      "metadata": {
        "colab": {
          "base_uri": "https://localhost:8080/"
        },
        "id": "SO3pXUXHtjO8",
        "outputId": "39571b72-1d86-4948-96a7-5b2822c0d742"
      },
      "execution_count": null,
      "outputs": [
        {
          "output_type": "stream",
          "name": "stdout",
          "text": [
            "1\n",
            "3\n",
            "5\n",
            "7\n",
            "9\n"
          ]
        }
      ]
    },
    {
      "cell_type": "code",
      "execution_count": null,
      "metadata": {
        "colab": {
          "base_uri": "https://localhost:8080/"
        },
        "id": "Be7tI_2eoXmz",
        "outputId": "d30b7f15-ccae-4637-e4c5-3ade0e4ddec3"
      },
      "outputs": [
        {
          "output_type": "stream",
          "name": "stdout",
          "text": [
            "1\n",
            "2\n",
            "3\n",
            "4\n",
            "5\n"
          ]
        }
      ],
      "source": [
        "a=[1,2,3,4,5]\n",
        "for item in a:\n",
        "  print(item)"
      ]
    },
    {
      "cell_type": "code",
      "source": [
        "#@title calculator by AVA\n",
        "\n",
        "print(\"Calculator\")\n",
        "print(\"1.Add\")\n",
        "print(\"2.Substract\")\n",
        "print(\"3.Multiply\")\n",
        "print(\"4.Divide\")\n",
        "\n",
        "ch=int(input(\"Enter Choice(1-4): \"))\n",
        "\n",
        "if ch==1:\n",
        "    a=int(input(\"Enter A:\"))\n",
        "    b=int(input(\"Enter B:\"))\n",
        "    c=a+b\n",
        "    print(\"Sum = \",c)\n",
        "elif ch==2:\n",
        "    a=int(input(\"Enter A:\"))\n",
        "    b=int(input(\"Enter B:\"))\n",
        "    c=a-b\n",
        "    print(\"Difference = \",c)\n",
        "elif  ch==3:\n",
        "    a=int(input(\"Enter A:\"))\n",
        "    b=int(input(\"Enter B:\"))\n",
        "    c=a*b\n",
        "    print(\"Product = \",c)\n",
        "elif ch==4:\n",
        "    a=int(input(\"Enter A:\"))\n",
        "    b=int(input(\"Enter B:\"))\n",
        "    c=a/b\n",
        "    print(\"Quotient = \",c)\n",
        "else:\n",
        "    print(\"Invalid Choice\")\n"
      ],
      "metadata": {
        "colab": {
          "base_uri": "https://localhost:8080/"
        },
        "id": "or98q6vqy1y5",
        "outputId": "16bfd33d-5b80-4d52-eace-a2a3414327ed"
      },
      "execution_count": null,
      "outputs": [
        {
          "output_type": "stream",
          "name": "stdout",
          "text": [
            "Calculator\n",
            "1.Add\n",
            "2.Substract\n",
            "3.Multiply\n",
            "4.Divide\n",
            "Enter Choice(1-4): 1\n",
            "Enter A:5\n",
            "Enter B:9\n",
            "Sum =  14\n"
          ]
        }
      ]
    },
    {
      "cell_type": "code",
      "source": [
        "\n",
        "num = int(input('enter a number:'))\n",
        "i = 2\n",
        "flag = 0\n",
        "while i<num:\n",
        "    if num%i == 0:\n",
        "        flag = 1\n",
        "        print (num,\"is NOT a prime number!\");\n",
        "    i = i + 1\n",
        "if flag == 0:\n",
        "    print (num,\"is a prime number!\");"
      ],
      "metadata": {
        "id": "7Y_7DVzV1cOs"
      },
      "execution_count": null,
      "outputs": []
    },
    {
      "cell_type": "code",
      "source": [
        "year=int(input(\"Enter year to be checked:\"))\n",
        "if(year%4==0 and year%100!=0 or year%400==0):\n",
        "    print(\"The year is a leap year!\")\n",
        "else:\n",
        "    print(\"The year isn't a leap year!\")"
      ],
      "metadata": {
        "colab": {
          "base_uri": "https://localhost:8080/"
        },
        "id": "MNdcnsc87qi0",
        "outputId": "52d79019-7cb2-4ec3-b08b-270a669ab3b6"
      },
      "execution_count": null,
      "outputs": [
        {
          "output_type": "stream",
          "name": "stdout",
          "text": [
            "Enter year to be checked:2024\n",
            "The year is a leap year!\n"
          ]
        }
      ]
    },
    {
      "cell_type": "code",
      "source": [
        "n=int(input(\"Enter a number: \"))\n",
        "sum = 0\n",
        "while(n > 0):\n",
        "    sum=sum+n\n",
        "    n=n-1\n",
        "print(\"The sum of first n natural numbers is\",sum)\n",
        "\n"
      ],
      "metadata": {
        "colab": {
          "base_uri": "https://localhost:8080/"
        },
        "id": "z9LydlVU8P5Q",
        "outputId": "20c6f0a2-4041-43a6-c5ea-0521fb7c9a1d"
      },
      "execution_count": null,
      "outputs": [
        {
          "output_type": "stream",
          "name": "stdout",
          "text": [
            "Enter a number: 5\n",
            "The sum of first n natural numbers is 15\n"
          ]
        }
      ]
    },
    {
      "cell_type": "code",
      "source": [
        "def greet():\n",
        "    print(\"Hello\")\n"
      ],
      "metadata": {
        "id": "TWKJdoM3FkMM"
      },
      "execution_count": null,
      "outputs": []
    },
    {
      "cell_type": "code",
      "source": [
        "greet()"
      ],
      "metadata": {
        "colab": {
          "base_uri": "https://localhost:8080/"
        },
        "id": "2knn-kJRGGTE",
        "outputId": "c1df1dd0-23c5-4228-b299-e97008c17068"
      },
      "execution_count": null,
      "outputs": [
        {
          "output_type": "stream",
          "name": "stdout",
          "text": [
            "Hello\n"
          ]
        }
      ]
    },
    {
      "cell_type": "code",
      "source": [
        "def addnumber(num1,num2):\n",
        "    sum=num1+num2\n",
        "    print(sum)"
      ],
      "metadata": {
        "id": "KPR5m5GlGN7P"
      },
      "execution_count": null,
      "outputs": []
    },
    {
      "cell_type": "code",
      "source": [
        "addnumber(4,5)"
      ],
      "metadata": {
        "colab": {
          "base_uri": "https://localhost:8080/"
        },
        "id": "v1UvN-ryGib6",
        "outputId": "c139d948-26ed-42f1-df1f-5bd65ff1fd8f"
      },
      "execution_count": null,
      "outputs": [
        {
          "output_type": "stream",
          "name": "stdout",
          "text": [
            "9\n"
          ]
        }
      ]
    },
    {
      "cell_type": "code",
      "source": [
        "def square(num1):\n",
        "  print(num1*num1)"
      ],
      "metadata": {
        "id": "ar-GsmI-KE2h"
      },
      "execution_count": null,
      "outputs": []
    },
    {
      "cell_type": "code",
      "source": [
        "square(6)"
      ],
      "metadata": {
        "id": "XmQsAN_GKc3c"
      },
      "execution_count": null,
      "outputs": []
    },
    {
      "cell_type": "code",
      "source": [
        "list=[1,5,3,14,25,21]\n",
        "s=0\n",
        "for i in list:\n",
        "  s=s+i\n",
        "  print(\"the sum is:\",s)"
      ],
      "metadata": {
        "id": "yq9cKChsqSe1",
        "colab": {
          "base_uri": "https://localhost:8080/"
        },
        "outputId": "455805ff-d2ae-4d3b-ff40-f84150c791f9"
      },
      "execution_count": null,
      "outputs": [
        {
          "output_type": "stream",
          "name": "stdout",
          "text": [
            "the sum is: 1\n",
            "the sum is: 6\n",
            "the sum is: 9\n",
            "the sum is: 23\n",
            "the sum is: 48\n",
            "the sum is: 69\n"
          ]
        }
      ]
    },
    {
      "cell_type": "code",
      "source": [
        "string = input(\"enter the string:\")\n",
        "print(len(string))"
      ],
      "metadata": {
        "id": "g3Lr_kySsiB-",
        "colab": {
          "base_uri": "https://localhost:8080/"
        },
        "outputId": "342d0c83-cc0a-4c91-885e-600daf34c321"
      },
      "execution_count": null,
      "outputs": [
        {
          "output_type": "stream",
          "name": "stdout",
          "text": [
            "enter the string:my name is devu\n",
            "15\n"
          ]
        }
      ]
    },
    {
      "cell_type": "code",
      "source": [
        "string = input(\"enter the string:\")\n",
        "print(len(string))\n",
        "print(len(string)//2)"
      ],
      "metadata": {
        "colab": {
          "base_uri": "https://localhost:8080/"
        },
        "id": "PFIIR54HvgQp",
        "outputId": "99081736-990c-4587-b11e-4db851b07803"
      },
      "execution_count": null,
      "outputs": [
        {
          "output_type": "stream",
          "name": "stdout",
          "text": [
            "enter the string:my name is devu\n",
            "15\n",
            "7\n"
          ]
        }
      ]
    },
    {
      "cell_type": "code",
      "source": [
        "s1 = input(\"enter the first string:\")\n",
        "s2 = input(\"enter the second string:\")\n",
        "newstring = s1+\" \"+s2\n",
        "print(\"sum of two strings are:\",newstring)\n",
        "print(len(newstring))"
      ],
      "metadata": {
        "colab": {
          "base_uri": "https://localhost:8080/"
        },
        "id": "mmu-v7A3wWML",
        "outputId": "46624d60-9cbf-4e51-caf3-8a850ee4996f"
      },
      "execution_count": null,
      "outputs": [
        {
          "output_type": "stream",
          "name": "stdout",
          "text": [
            "enter the first string:she is\n",
            "enter the second string:very beautiful\n",
            "sum of two strings are: she is very beautiful\n",
            "21\n"
          ]
        }
      ]
    },
    {
      "cell_type": "code",
      "source": [],
      "metadata": {
        "id": "lypNzwtO6zv7"
      },
      "execution_count": null,
      "outputs": []
    }
  ]
}